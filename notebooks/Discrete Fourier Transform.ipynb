{
 "cells": [
  {
   "cell_type": "markdown",
   "id": "4c44d51b",
   "metadata": {},
   "source": [
    "# Fourier Transforms (Find Frequency)"
   ]
  },
  {
   "cell_type": "markdown",
   "id": "e5e888d0",
   "metadata": {},
   "source": [
    "Fourier Transform\n",
    "--------------\n",
    "\n",
    "The Discrete Fourier Transform (DFT) is the primary analysis tool for digital signal processing. By using matrix/vector representation, the DFT can be understood as a transformation of digital signals into a new vector space.\n",
    "\n",
    "In this space  the columns of the DFT are the basis vectors. One important idea is that we call these vectors as \"frequencies\", but mathematically they simply represent the original data in a different space.\n",
    "\n",
    "This is the mathematical definition of DFT matrix\n",
    "\n",
    "$$ \\mathbf{U} = \\frac{1}{\\sqrt N} \\left[ \\exp \\left( j \\frac{2\\pi}{N} n k \\right) \\right]_{n\\in\\{0,N_s-1\\},k\\in\\{0,N-1\\}} $$\n",
    "\n",
    "\n",
    "where $n$ counts the samples as rows and $k$ indexes the discrete frequencies (which are our new basis) as columns. "
   ]
  },
  {
   "cell_type": "markdown",
   "id": "9d784859",
   "metadata": {},
   "source": [
    "##### Question 1"
   ]
  },
  {
   "cell_type": "code",
   "execution_count": null,
   "id": "2c721078",
   "metadata": {},
   "outputs": [],
   "source": [
    "def dftmatrix(Nfft=32,N=None):\n",
    "    'construct DFT matrix'\n",
    "    k= np.arange(Nfft)\n",
    "    if N is None: N = Nfft\n",
    "    n = np.arange(N)\n",
    "    \n",
    "    ### Implement the DFT matrix (U) here\n",
    "\n",
    "    \n",
    "    return U/np.sqrt(Nfft)\n",
    "\n",
    "Nfft=8\n",
    "Ns=8\n",
    "U = dftmatrix(Nfft=Nfft,N=Ns)"
   ]
  },
  {
   "cell_type": "markdown",
   "id": "cdb6863a",
   "metadata": {},
   "source": [
    "We can plot these basis as pairs of real and imaginary vectors"
   ]
  },
  {
   "cell_type": "code",
   "execution_count": null,
   "id": "01e60141",
   "metadata": {},
   "outputs": [],
   "source": [
    "plt.rcParams['figure.figsize'] = (20, 16)\n",
    "\n",
    "# plots in the left column\n",
    "plt.subplot(Nfft,2,1)\n",
    "plt.title('Real Part',fontsize=24)\n",
    "\n",
    "for i in range(Nfft):\n",
    "    plt.subplot(Nfft,2,2*i+1)\n",
    "    plt.xticks([]);  plt.yticks([])\n",
    "    plt.ylabel(r'$\\Omega_{%d}=%d\\times\\frac{2\\pi}{8}$'%(i,i),fontsize=24, \n",
    "        rotation='horizontal',horizontalalignment='right')\n",
    "    plt.plot(np.array(U.real[:,i]),'-o')\n",
    "    plt.axis(ymax=4/Nfft*1.1,ymin=-4/Nfft*1.1)\n",
    "plt.xticks(np.arange(Nfft))\n",
    "plt.xlabel('n')\n",
    "\n",
    "# plots in the  right column\n",
    "plt.subplot(Nfft,2,2)\n",
    "plt.title('Imaginary Part',fontsize=24)\n",
    "\n",
    "for i in range(Nfft):\n",
    "    ax=plt.subplot(Nfft,2,2*(i+1))\n",
    "    plt.xticks([]);  plt.yticks([])\n",
    "    plt.plot(np.array(U.imag[:,i]),'--o')\n",
    "    plt.axis(ymax=4/Nfft*1.1,ymin=-4/Nfft*1.1)    \n",
    "plt.xticks(np.arange(Nfft))\n",
    "plt.xlabel('n')"
   ]
  },
  {
   "cell_type": "markdown",
   "id": "6cfbddd0",
   "metadata": {},
   "source": [
    "##### Question 2\n",
    "\n",
    "What do you observe in the above plots, considering symmetries and the relationship between real & imaginary parts?"
   ]
  },
  {
   "cell_type": "markdown",
   "id": "d1abc159",
   "metadata": {},
   "source": [
    "``Your response here``"
   ]
  },
  {
   "cell_type": "markdown",
   "id": "25eedaed",
   "metadata": {},
   "source": [
    "Computing the DFT\n",
    "--------------------\n",
    "\n",
    "To compute the DFT using the matrix, we calculate the following,\n",
    "\n",
    "$$ \\mathbf{X} = \\mathbf{U}^H \\mathbf{x}$$\n",
    "\n",
    "which individually takes each of the columns of $\\mathbf{U}$ and computes the inner product as the $i^{th}$ entry,\n",
    "\n",
    "$$ \\mathbf{X}_i = \\mathbf{U}_i^H \\mathbf{x}$$\n",
    "\n",
    "That is, we are measuring the *degree of similarity* between each column of $\\mathbf{U}$ and the input vector. We can think of this as the coefficient of the projection of $\\mathbf{x}$ onto  $\\mathbf{u}_i$.\n",
    "\n",
    "We can retrieve the original input from the DFT by calculating\n",
    "\n",
    "$$ \\mathbf{x} = \\mathbf{U} \\mathbf{X} $$"
   ]
  },
  {
   "cell_type": "markdown",
   "id": "1f0a6234",
   "metadata": {},
   "source": [
    "### Example: finding a frequency of a signal"
   ]
  },
  {
   "cell_type": "code",
   "execution_count": null,
   "id": "d2c472e8",
   "metadata": {},
   "outputs": [],
   "source": [
    "plt.rcParams['figure.figsize'] = (8, 4)\n",
    "\n",
    "Ns = 70\n",
    "freq = 5.5/Ns\n",
    "t = np.arange(Ns)\n",
    "x = np.sin(2*np.pi*freq*t)\n",
    "plt.plot(x)\n",
    "plt.show()"
   ]
  },
  {
   "cell_type": "markdown",
   "id": "5a9a65f1",
   "metadata": {},
   "source": [
    "##### Question 3"
   ]
  },
  {
   "cell_type": "code",
   "execution_count": null,
   "id": "0d0f9c05",
   "metadata": {},
   "outputs": [],
   "source": [
    "Nfft = Ns\n",
    "U = dftmatrix(Nfft=Nfft,N=Ns)\n",
    "x = np.matrix(x)\n",
    "\n",
    "### Compute X, the DFT of signal x\n",
    "\n",
    "\n",
    "\n",
    "plt.stem(np.array(abs(X)))\n",
    "plt.show()"
   ]
  },
  {
   "cell_type": "markdown",
   "id": "8162fcff",
   "metadata": {},
   "source": [
    "##### Question 4\n",
    "\n",
    "Where do you observe peaks in the DFT plot? How would you describe the DFT plot symmetry? "
   ]
  },
  {
   "cell_type": "markdown",
   "id": "315019d3",
   "metadata": {},
   "source": [
    "``Your response here``"
   ]
  },
  {
   "cell_type": "code",
   "execution_count": null,
   "id": "79c3a733",
   "metadata": {},
   "outputs": [],
   "source": []
  }
 ],
 "metadata": {
  "kernelspec": {
   "display_name": "Python 3 (ipykernel)",
   "language": "python",
   "name": "python3"
  },
  "language_info": {
   "codemirror_mode": {
    "name": "ipython",
    "version": 3
   },
   "file_extension": ".py",
   "mimetype": "text/x-python",
   "name": "python",
   "nbconvert_exporter": "python",
   "pygments_lexer": "ipython3",
   "version": "3.10.9"
  }
 },
 "nbformat": 4,
 "nbformat_minor": 5
}
